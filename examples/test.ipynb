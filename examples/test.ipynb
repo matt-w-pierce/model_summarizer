{
 "cells": [
  {
   "cell_type": "markdown",
   "metadata": {},
   "source": [
    "## Test Script\n",
    "Running all of the cells in this notebook will create two separate experiments and add them to the model summary.\n",
    "\n",
    "To view the summary interface in a web browser run the following command from the base repo directory:\n",
    "```\n",
    "streamlit run model_summarizer\\streamlit_app.py test_model examples\\test_dir\n",
    "```\n",
    "\n",
    "### Resetting the model summary\n",
    "If you want to clear the experiment history for this test delete the following file ```examples/test_dir/test_model_model_summary.csv```"
   ]
  },
  {
   "cell_type": "code",
   "execution_count": 1,
   "metadata": {},
   "outputs": [],
   "source": [
    "# Import libraries\n",
    "import os\n",
    "from model_summarizer.summarizer import Experiment, ExperimentSummary"
   ]
  },
  {
   "cell_type": "code",
   "execution_count": 2,
   "metadata": {},
   "outputs": [],
   "source": [
    "# Initializing the summarizer\n",
    "cwd = os.getcwd()\n",
    "base_dir = os.path.join(cwd, 'test_dir')\n",
    "\n",
    "summary = ExperimentSummary('test_model', base_dir)"
   ]
  },
  {
   "cell_type": "code",
   "execution_count": 3,
   "metadata": {},
   "outputs": [],
   "source": [
    "# Specifying the first experiment components\n",
    "title = 'Experiment Title'\n",
    "desc = 'A description for the first experiment'\n",
    "run_path = os.path.join(base_dir, 'first_exp')\n",
    "\n",
    "features = ['one', 'two', 'three']\n",
    "hyper_params = {\n",
    "    'param_one': 1,\n",
    "    'param_two': 'parameter two',\n",
    "    'param_three': True\n",
    "}\n",
    "\n",
    "# Initializing the experiment\n",
    "exp = Experiment(title, desc, run_path, features=features, hyper_params=hyper_params)\n",
    "\n",
    "# Adding metrics to the experiment\n",
    "exp.add_metric('metric_one', 1)\n",
    "exp.add_metric('metric_two', 'Two')\n",
    "exp.add_metric('metric_three', False)\n",
    "exp.add_metric('metric_four', [1, 2, 3, 4])\n",
    "exp.add_metric('metric_five', 'line-chart.png')\n",
    "\n",
    "# Adding the experiment to the summary\n",
    "summary.add_experiment(exp)"
   ]
  },
  {
   "cell_type": "code",
   "execution_count": 4,
   "metadata": {},
   "outputs": [],
   "source": [
    "# Specifying the second experiment components\n",
    "title = 'The Second Experiment'\n",
    "desc = 'A description for the second experiment'\n",
    "run_path = os.path.join(base_dir, 'second_exp')\n",
    "\n",
    "features = ['seven', 'eight', 'nine']\n",
    "hyper_params = {\n",
    "    'param_one': 2,\n",
    "    'param_two': 'parameter one',\n",
    "    'param_three': False\n",
    "}\n",
    "\n",
    "# Initializing the experiment\n",
    "exp = Experiment(title, desc, run_path, features=features, hyper_params=hyper_params)\n",
    "\n",
    "# Adding metrics to the experiment\n",
    "exp.add_metric('metric_one', 2)\n",
    "exp.add_metric('metric_two', 'Two')\n",
    "exp.add_metric('metric_three', True)\n",
    "exp.add_metric('metric_four', [10, 11, 12, 13])\n",
    "exp.add_metric('metric_five', 'line-charts.png')\n",
    "\n",
    "# Adding the experiment to the summary\n",
    "summary.add_experiment(exp)"
   ]
  }
 ],
 "metadata": {
  "kernelspec": {
   "display_name": "Python 3",
   "language": "python",
   "name": "python3"
  },
  "language_info": {
   "codemirror_mode": {
    "name": "ipython",
    "version": 3
   },
   "file_extension": ".py",
   "mimetype": "text/x-python",
   "name": "python",
   "nbconvert_exporter": "python",
   "pygments_lexer": "ipython3",
   "version": "3.7.0"
  }
 },
 "nbformat": 4,
 "nbformat_minor": 4
}
